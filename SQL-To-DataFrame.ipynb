{
 "cells": [
  {
   "cell_type": "code",
   "execution_count": 1,
   "id": "b7da392d",
   "metadata": {},
   "outputs": [
    {
     "name": "stdout",
     "output_type": "stream",
     "text": [
      "Collecting ipython-sql\n",
      "  Downloading ipython_sql-0.4.0-py3-none-any.whl (19 kB)\n",
      "Collecting sqlparse\n",
      "  Downloading sqlparse-0.4.2-py3-none-any.whl (42 kB)\n",
      "Requirement already satisfied: sqlalchemy>=0.6.7 in c:\\users\\aless\\anaconda3\\lib\\site-packages (from ipython-sql) (1.4.22)\n",
      "Requirement already satisfied: six in c:\\users\\aless\\anaconda3\\lib\\site-packages (from ipython-sql) (1.16.0)\n",
      "Requirement already satisfied: ipython>=1.0 in c:\\users\\aless\\anaconda3\\lib\\site-packages (from ipython-sql) (7.29.0)\n",
      "Requirement already satisfied: ipython-genutils>=0.1.0 in c:\\users\\aless\\anaconda3\\lib\\site-packages (from ipython-sql) (0.2.0)\n",
      "Collecting prettytable<1\n",
      "  Downloading prettytable-0.7.2.zip (28 kB)\n",
      "Requirement already satisfied: jedi>=0.16 in c:\\users\\aless\\anaconda3\\lib\\site-packages (from ipython>=1.0->ipython-sql) (0.18.0)\n",
      "Requirement already satisfied: decorator in c:\\users\\aless\\anaconda3\\lib\\site-packages (from ipython>=1.0->ipython-sql) (5.1.0)\n",
      "Requirement already satisfied: pygments in c:\\users\\aless\\anaconda3\\lib\\site-packages (from ipython>=1.0->ipython-sql) (2.10.0)\n",
      "Requirement already satisfied: prompt-toolkit!=3.0.0,!=3.0.1,<3.1.0,>=2.0.0 in c:\\users\\aless\\anaconda3\\lib\\site-packages (from ipython>=1.0->ipython-sql) (3.0.20)\n",
      "Requirement already satisfied: pickleshare in c:\\users\\aless\\anaconda3\\lib\\site-packages (from ipython>=1.0->ipython-sql) (0.7.5)\n",
      "Requirement already satisfied: colorama in c:\\users\\aless\\anaconda3\\lib\\site-packages (from ipython>=1.0->ipython-sql) (0.4.4)\n",
      "Requirement already satisfied: backcall in c:\\users\\aless\\anaconda3\\lib\\site-packages (from ipython>=1.0->ipython-sql) (0.2.0)\n",
      "Requirement already satisfied: matplotlib-inline in c:\\users\\aless\\anaconda3\\lib\\site-packages (from ipython>=1.0->ipython-sql) (0.1.2)\n",
      "Requirement already satisfied: traitlets>=4.2 in c:\\users\\aless\\anaconda3\\lib\\site-packages (from ipython>=1.0->ipython-sql) (5.1.0)\n",
      "Requirement already satisfied: setuptools>=18.5 in c:\\users\\aless\\anaconda3\\lib\\site-packages (from ipython>=1.0->ipython-sql) (58.0.4)\n",
      "Requirement already satisfied: parso<0.9.0,>=0.8.0 in c:\\users\\aless\\anaconda3\\lib\\site-packages (from jedi>=0.16->ipython>=1.0->ipython-sql) (0.8.2)\n",
      "Requirement already satisfied: wcwidth in c:\\users\\aless\\anaconda3\\lib\\site-packages (from prompt-toolkit!=3.0.0,!=3.0.1,<3.1.0,>=2.0.0->ipython>=1.0->ipython-sql) (0.2.5)\n",
      "Requirement already satisfied: greenlet!=0.4.17 in c:\\users\\aless\\anaconda3\\lib\\site-packages (from sqlalchemy>=0.6.7->ipython-sql) (1.1.1)\n",
      "Building wheels for collected packages: prettytable\n",
      "  Building wheel for prettytable (setup.py): started\n",
      "  Building wheel for prettytable (setup.py): finished with status 'done'\n",
      "  Created wheel for prettytable: filename=prettytable-0.7.2-py3-none-any.whl size=13714 sha256=41cafba2bea56d19a141d79138abaecd3107c9e7ea833fd906c4a6350594f92e\n",
      "  Stored in directory: c:\\users\\aless\\appdata\\local\\pip\\cache\\wheels\\75\\f7\\28\\77a076f1fa8cbeda61aca712815d04d7a32435f04a26a2dd7b\n",
      "Successfully built prettytable\n",
      "Installing collected packages: sqlparse, prettytable, ipython-sql\n",
      "Successfully installed ipython-sql-0.4.0 prettytable-0.7.2 sqlparse-0.4.2\n"
     ]
    }
   ],
   "source": [
    "!pip install ipython-sql"
   ]
  },
  {
   "cell_type": "code",
   "execution_count": 2,
   "id": "e6e1851e",
   "metadata": {},
   "outputs": [],
   "source": [
    "import sqlalchemy"
   ]
  },
  {
   "cell_type": "code",
   "execution_count": 5,
   "id": "69576096",
   "metadata": {},
   "outputs": [
    {
     "data": {
      "text/plain": [
       "Engine(sqlite:///Sport.db)"
      ]
     },
     "execution_count": 5,
     "metadata": {},
     "output_type": "execute_result"
    }
   ],
   "source": [
    "sqlalchemy.create_engine('sqlite:///Sport.db')"
   ]
  },
  {
   "cell_type": "code",
   "execution_count": 7,
   "id": "bc400f49",
   "metadata": {},
   "outputs": [],
   "source": [
    "%load_ext sql"
   ]
  },
  {
   "cell_type": "code",
   "execution_count": 8,
   "id": "a71d221b",
   "metadata": {},
   "outputs": [],
   "source": [
    "%sql sqlite:///Sport.db"
   ]
  },
  {
   "cell_type": "code",
   "execution_count": 9,
   "id": "dea05524",
   "metadata": {},
   "outputs": [
    {
     "name": "stdout",
     "output_type": "stream",
     "text": [
      " * sqlite:///Sport.db\n",
      "Done.\n"
     ]
    },
    {
     "data": {
      "text/html": [
       "<table>\n",
       "    <tr>\n",
       "        <th>Cognome</th>\n",
       "        <th>Nome</th>\n",
       "        <th>Squadra</th>\n",
       "        <th>NumMaglia</th>\n",
       "        <th>Età</th>\n",
       "    </tr>\n",
       "    <tr>\n",
       "        <td>Malizia</td>\n",
       "        <td>Alessio</td>\n",
       "        <td>Pisa</td>\n",
       "        <td>10</td>\n",
       "        <td>34</td>\n",
       "    </tr>\n",
       "    <tr>\n",
       "        <td>Matera</td>\n",
       "        <td>Davide</td>\n",
       "        <td>Firenze</td>\n",
       "        <td>15</td>\n",
       "        <td>32</td>\n",
       "    </tr>\n",
       "    <tr>\n",
       "        <td>Rossi</td>\n",
       "        <td>Giovanni</td>\n",
       "        <td>Firenze</td>\n",
       "        <td>4</td>\n",
       "        <td>33</td>\n",
       "    </tr>\n",
       "    <tr>\n",
       "        <td>Verdi</td>\n",
       "        <td>Giuseppe</td>\n",
       "        <td>Empoli</td>\n",
       "        <td>None</td>\n",
       "        <td>None</td>\n",
       "    </tr>\n",
       "</table>"
      ],
      "text/plain": [
       "[('Malizia', 'Alessio', 'Pisa', 10, 34),\n",
       " ('Matera', 'Davide', 'Firenze', 15, 32),\n",
       " ('Rossi', 'Giovanni', 'Firenze', 4, 33),\n",
       " ('Verdi', 'Giuseppe', 'Empoli', None, None)]"
      ]
     },
     "execution_count": 9,
     "metadata": {},
     "output_type": "execute_result"
    }
   ],
   "source": [
    "%%sql\n",
    "\n",
    "SELECT * FROM GIOCATORI"
   ]
  },
  {
   "cell_type": "code",
   "execution_count": 10,
   "id": "3305c5a4",
   "metadata": {},
   "outputs": [
    {
     "name": "stdout",
     "output_type": "stream",
     "text": [
      " * sqlite:///Sport.db\n",
      "Done.\n"
     ]
    }
   ],
   "source": [
    "result = %sql SELECT * FROM GIOCATORI"
   ]
  },
  {
   "cell_type": "code",
   "execution_count": 11,
   "id": "f9583a73",
   "metadata": {},
   "outputs": [
    {
     "data": {
      "text/html": [
       "<table>\n",
       "    <tr>\n",
       "        <th>Cognome</th>\n",
       "        <th>Nome</th>\n",
       "        <th>Squadra</th>\n",
       "        <th>NumMaglia</th>\n",
       "        <th>Età</th>\n",
       "    </tr>\n",
       "    <tr>\n",
       "        <td>Malizia</td>\n",
       "        <td>Alessio</td>\n",
       "        <td>Pisa</td>\n",
       "        <td>10</td>\n",
       "        <td>34</td>\n",
       "    </tr>\n",
       "    <tr>\n",
       "        <td>Matera</td>\n",
       "        <td>Davide</td>\n",
       "        <td>Firenze</td>\n",
       "        <td>15</td>\n",
       "        <td>32</td>\n",
       "    </tr>\n",
       "    <tr>\n",
       "        <td>Rossi</td>\n",
       "        <td>Giovanni</td>\n",
       "        <td>Firenze</td>\n",
       "        <td>4</td>\n",
       "        <td>33</td>\n",
       "    </tr>\n",
       "    <tr>\n",
       "        <td>Verdi</td>\n",
       "        <td>Giuseppe</td>\n",
       "        <td>Empoli</td>\n",
       "        <td>None</td>\n",
       "        <td>None</td>\n",
       "    </tr>\n",
       "</table>"
      ],
      "text/plain": [
       "[('Malizia', 'Alessio', 'Pisa', 10, 34),\n",
       " ('Matera', 'Davide', 'Firenze', 15, 32),\n",
       " ('Rossi', 'Giovanni', 'Firenze', 4, 33),\n",
       " ('Verdi', 'Giuseppe', 'Empoli', None, None)]"
      ]
     },
     "execution_count": 11,
     "metadata": {},
     "output_type": "execute_result"
    }
   ],
   "source": [
    "result"
   ]
  },
  {
   "cell_type": "code",
   "execution_count": 13,
   "id": "4b72cddb",
   "metadata": {},
   "outputs": [],
   "source": [
    "df = result.DataFrame()"
   ]
  },
  {
   "cell_type": "code",
   "execution_count": 14,
   "id": "c85c6233",
   "metadata": {},
   "outputs": [
    {
     "data": {
      "text/html": [
       "<div>\n",
       "<style scoped>\n",
       "    .dataframe tbody tr th:only-of-type {\n",
       "        vertical-align: middle;\n",
       "    }\n",
       "\n",
       "    .dataframe tbody tr th {\n",
       "        vertical-align: top;\n",
       "    }\n",
       "\n",
       "    .dataframe thead th {\n",
       "        text-align: right;\n",
       "    }\n",
       "</style>\n",
       "<table border=\"1\" class=\"dataframe\">\n",
       "  <thead>\n",
       "    <tr style=\"text-align: right;\">\n",
       "      <th></th>\n",
       "      <th>Cognome</th>\n",
       "      <th>Nome</th>\n",
       "      <th>Squadra</th>\n",
       "      <th>NumMaglia</th>\n",
       "      <th>Età</th>\n",
       "    </tr>\n",
       "  </thead>\n",
       "  <tbody>\n",
       "    <tr>\n",
       "      <th>0</th>\n",
       "      <td>Malizia</td>\n",
       "      <td>Alessio</td>\n",
       "      <td>Pisa</td>\n",
       "      <td>10.0</td>\n",
       "      <td>34.0</td>\n",
       "    </tr>\n",
       "    <tr>\n",
       "      <th>1</th>\n",
       "      <td>Matera</td>\n",
       "      <td>Davide</td>\n",
       "      <td>Firenze</td>\n",
       "      <td>15.0</td>\n",
       "      <td>32.0</td>\n",
       "    </tr>\n",
       "    <tr>\n",
       "      <th>2</th>\n",
       "      <td>Rossi</td>\n",
       "      <td>Giovanni</td>\n",
       "      <td>Firenze</td>\n",
       "      <td>4.0</td>\n",
       "      <td>33.0</td>\n",
       "    </tr>\n",
       "    <tr>\n",
       "      <th>3</th>\n",
       "      <td>Verdi</td>\n",
       "      <td>Giuseppe</td>\n",
       "      <td>Empoli</td>\n",
       "      <td>NaN</td>\n",
       "      <td>NaN</td>\n",
       "    </tr>\n",
       "  </tbody>\n",
       "</table>\n",
       "</div>"
      ],
      "text/plain": [
       "   Cognome      Nome  Squadra  NumMaglia   Età\n",
       "0  Malizia   Alessio     Pisa       10.0  34.0\n",
       "1   Matera    Davide  Firenze       15.0  32.0\n",
       "2    Rossi  Giovanni  Firenze        4.0  33.0\n",
       "3    Verdi  Giuseppe   Empoli        NaN   NaN"
      ]
     },
     "execution_count": 14,
     "metadata": {},
     "output_type": "execute_result"
    }
   ],
   "source": [
    "df.head()"
   ]
  },
  {
   "cell_type": "code",
   "execution_count": 17,
   "id": "c07466bd",
   "metadata": {},
   "outputs": [
    {
     "name": "stdout",
     "output_type": "stream",
     "text": [
      " * sqlite:///Sport.db\n",
      "Done.\n"
     ]
    }
   ],
   "source": [
    "result2 = %sql SELECT * FROM GIOCATORI WHERE Squadra = 'Firenze'"
   ]
  },
  {
   "cell_type": "code",
   "execution_count": 18,
   "id": "a1e29bc2",
   "metadata": {},
   "outputs": [
    {
     "data": {
      "text/html": [
       "<table>\n",
       "    <tr>\n",
       "        <th>Cognome</th>\n",
       "        <th>Nome</th>\n",
       "        <th>Squadra</th>\n",
       "        <th>NumMaglia</th>\n",
       "        <th>Età</th>\n",
       "    </tr>\n",
       "    <tr>\n",
       "        <td>Matera</td>\n",
       "        <td>Davide</td>\n",
       "        <td>Firenze</td>\n",
       "        <td>15</td>\n",
       "        <td>32</td>\n",
       "    </tr>\n",
       "    <tr>\n",
       "        <td>Rossi</td>\n",
       "        <td>Giovanni</td>\n",
       "        <td>Firenze</td>\n",
       "        <td>4</td>\n",
       "        <td>33</td>\n",
       "    </tr>\n",
       "</table>"
      ],
      "text/plain": [
       "[('Matera', 'Davide', 'Firenze', 15, 32),\n",
       " ('Rossi', 'Giovanni', 'Firenze', 4, 33)]"
      ]
     },
     "execution_count": 18,
     "metadata": {},
     "output_type": "execute_result"
    }
   ],
   "source": [
    "result2"
   ]
  },
  {
   "cell_type": "code",
   "execution_count": 19,
   "id": "2d5a3493",
   "metadata": {},
   "outputs": [],
   "source": [
    "df2 = result2.DataFrame()"
   ]
  },
  {
   "cell_type": "code",
   "execution_count": 20,
   "id": "c6572975",
   "metadata": {},
   "outputs": [
    {
     "data": {
      "text/html": [
       "<div>\n",
       "<style scoped>\n",
       "    .dataframe tbody tr th:only-of-type {\n",
       "        vertical-align: middle;\n",
       "    }\n",
       "\n",
       "    .dataframe tbody tr th {\n",
       "        vertical-align: top;\n",
       "    }\n",
       "\n",
       "    .dataframe thead th {\n",
       "        text-align: right;\n",
       "    }\n",
       "</style>\n",
       "<table border=\"1\" class=\"dataframe\">\n",
       "  <thead>\n",
       "    <tr style=\"text-align: right;\">\n",
       "      <th></th>\n",
       "      <th>Cognome</th>\n",
       "      <th>Nome</th>\n",
       "      <th>Squadra</th>\n",
       "      <th>NumMaglia</th>\n",
       "      <th>Età</th>\n",
       "    </tr>\n",
       "  </thead>\n",
       "  <tbody>\n",
       "    <tr>\n",
       "      <th>0</th>\n",
       "      <td>Matera</td>\n",
       "      <td>Davide</td>\n",
       "      <td>Firenze</td>\n",
       "      <td>15</td>\n",
       "      <td>32</td>\n",
       "    </tr>\n",
       "    <tr>\n",
       "      <th>1</th>\n",
       "      <td>Rossi</td>\n",
       "      <td>Giovanni</td>\n",
       "      <td>Firenze</td>\n",
       "      <td>4</td>\n",
       "      <td>33</td>\n",
       "    </tr>\n",
       "  </tbody>\n",
       "</table>\n",
       "</div>"
      ],
      "text/plain": [
       "  Cognome      Nome  Squadra  NumMaglia  Età\n",
       "0  Matera    Davide  Firenze         15   32\n",
       "1   Rossi  Giovanni  Firenze          4   33"
      ]
     },
     "execution_count": 20,
     "metadata": {},
     "output_type": "execute_result"
    }
   ],
   "source": [
    "df2"
   ]
  },
  {
   "cell_type": "code",
   "execution_count": null,
   "id": "1597045c",
   "metadata": {},
   "outputs": [],
   "source": []
  }
 ],
 "metadata": {
  "kernelspec": {
   "display_name": "Python 3 (ipykernel)",
   "language": "python",
   "name": "python3"
  },
  "language_info": {
   "codemirror_mode": {
    "name": "ipython",
    "version": 3
   },
   "file_extension": ".py",
   "mimetype": "text/x-python",
   "name": "python",
   "nbconvert_exporter": "python",
   "pygments_lexer": "ipython3",
   "version": "3.9.7"
  }
 },
 "nbformat": 4,
 "nbformat_minor": 5
}
